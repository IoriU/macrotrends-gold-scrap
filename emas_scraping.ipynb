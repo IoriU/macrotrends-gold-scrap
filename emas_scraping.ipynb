{
 "cells": [
  {
   "cell_type": "code",
   "execution_count": 144,
   "metadata": {},
   "outputs": [],
   "source": [
    "from selenium.webdriver.common.keys import Keys\n",
    "from selenium.webdriver.common.action_chains import ActionChains\n",
    "from selenium.common.exceptions import NoSuchElementException, TimeoutException\n",
    "from selenium.webdriver.support import expected_conditions as EC\n",
    "from selenium.webdriver.common.by import By\n",
    "from selenium.webdriver.support.ui import WebDriverWait\n",
    "from selenium import webdriver\n",
    "import pandas as pd\n",
    "import time\n",
    "import pyautogui"
   ]
  },
  {
   "cell_type": "code",
   "execution_count": 145,
   "metadata": {},
   "outputs": [],
   "source": [
    "def get_data_api(api):\n",
    "    '''\n",
    "    Get API result\n",
    "    '''\n",
    "    response = requests.get(api)\n",
    "    return json.loads(response.content)\n",
    "\n",
    "def scroll(height):\n",
    "    '''\n",
    "    Scroll in Selenium\n",
    "    '''\n",
    "    driver.execute_script(\"window.scrollTo(0, {})\".format(height))\n",
    "\n",
    "\n",
    "def get_single_element(xpath):\n",
    "    '''\n",
    "    Get single element by xpath in Selenium\n",
    "    '''\n",
    "    WebDriverWait(driver, 3).until(\n",
    "        EC.presence_of_element_located((By.XPATH, xpath)))\n",
    "    return driver.find_element_by_xpath(xpath)\n",
    "\n",
    "def is_element_found(xpath):\n",
    "    '''\n",
    "    Check if an element is found\n",
    "    '''\n",
    "    try:\n",
    "        WebDriverWait(driver, 3).until(\n",
    "        EC.presence_of_element_located((By.XPATH, xpath)))\n",
    "        return True\n",
    "    except TimeoutException:\n",
    "        return False\n",
    "\n",
    "def get_multiple_element(xpath):\n",
    "    '''\n",
    "    Get multiple element by xpath in Selenium\n",
    "    '''\n",
    "    WebDriverWait(driver, 3).until(\n",
    "        EC.presence_of_all_elements_located((By.XPATH, xpath)))\n",
    "    return driver.find_elements_by_xpath(xpath)\n",
    "\n",
    "\n",
    "def get_text(element):\n",
    "    '''\n",
    "    Extract text of an element in Selenium\n",
    "    '''\n",
    "    return driver.execute_script(\"return arguments[0].innerText;\", element)\n",
    "\n",
    "\n",
    "def get_content(xpath):\n",
    "    '''\n",
    "    Extract text of an element that is selected by xpath in Selenium\n",
    "    '''\n",
    "    return get_text(get_single_element(xpath))"
   ]
  },
  {
   "cell_type": "code",
   "execution_count": 146,
   "metadata": {},
   "outputs": [],
   "source": [
    "from selenium import webdriver\n",
    "options = webdriver.ChromeOptions()\n",
    "# options.add_argument('--headless')\n",
    "options.add_argument('--no-sandbox')\n",
    "options.add_argument(\"--start-maximized\");\n",
    "options.add_argument('--disable-dev-shm-usage')"
   ]
  },
  {
   "cell_type": "code",
   "execution_count": 155,
   "metadata": {},
   "outputs": [
    {
     "name": "stderr",
     "output_type": "stream",
     "text": [
      "C:\\Users\\Public\\Documents\\Wondershare\\CreatorTemp\\ipykernel_13072\\2474244775.py:1: DeprecationWarning: executable_path has been deprecated, please pass in a Service object\n",
      "  driver = webdriver.Chrome('Z:\\Driver\\Chrome\\chromedriver', options=options)\n"
     ]
    }
   ],
   "source": [
    "driver = webdriver.Chrome('Z:\\Driver\\Chrome\\chromedriver', options=options)\n",
    "url = \"https://www.macrotrends.net/assets/php/chart_iframe_comp.php?id=1333&amp;url=historical-gold-prices-100-year-chart\"\n",
    "driver.get(url)"
   ]
  },
  {
   "cell_type": "code",
   "execution_count": 148,
   "metadata": {},
   "outputs": [
    {
     "name": "stderr",
     "output_type": "stream",
     "text": [
      "C:\\Users\\Public\\Documents\\Wondershare\\CreatorTemp\\ipykernel_13072\\1143102325.py:21: DeprecationWarning: find_element_by_xpath is deprecated. Please use find_element(by=By.XPATH, value=xpath) instead\n",
      "  return driver.find_element_by_xpath(xpath)\n"
     ]
    }
   ],
   "source": [
    "main = get_single_element('//div[@class=\"amcharts-chart-div\"]')\n",
    "driver.execute_script(\"arguments[0].scrollIntoView();\", main)\n",
    "webdriver.ActionChains(driver).move_to_element(main).perform()"
   ]
  },
  {
   "cell_type": "code",
   "execution_count": 149,
   "metadata": {},
   "outputs": [
    {
     "name": "stderr",
     "output_type": "stream",
     "text": [
      "C:\\Users\\Public\\Documents\\Wondershare\\CreatorTemp\\ipykernel_13072\\1816263645.py:1: DeprecationWarning: find_element_by_tag_name is deprecated. Please use find_element(by=By.TAG_NAME, value=name) instead\n",
      "  value = get_text(main.find_element_by_tag_name(\"td\"))\n",
      "C:\\Users\\Public\\Documents\\Wondershare\\CreatorTemp\\ipykernel_13072\\1816263645.py:3: DeprecationWarning: find_element_by_xpath is deprecated. Please use find_element(by=By.XPATH, value=xpath) instead\n",
      "  month = get_text(main.find_element_by_xpath(\"//div[@class='amcharts-balloon-div amcharts-balloon-div-categoryAxis']/div\"))\n"
     ]
    },
    {
     "name": "stdout",
     "output_type": "stream",
     "text": [
      "$323.05\n",
      "Jun, 1965\n"
     ]
    }
   ],
   "source": [
    "value = get_text(main.find_element_by_tag_name(\"td\"))\n",
    "print(value)\n",
    "month = get_text(main.find_element_by_xpath(\"//div[@class='amcharts-balloon-div amcharts-balloon-div-categoryAxis']/div\"))\n",
    "print(month)"
   ]
  },
  {
   "cell_type": "code",
   "execution_count": 150,
   "metadata": {},
   "outputs": [],
   "source": [
    "left = 111\n",
    "right = 1309\n",
    "q1 = (left+right)//3\n",
    "q2 = (left+right)*2//3\n",
    "y_graph = 450\n",
    "y_zoom = 705"
   ]
  },
  {
   "cell_type": "code",
   "execution_count": 151,
   "metadata": {},
   "outputs": [
    {
     "name": "stderr",
     "output_type": "stream",
     "text": [
      "C:\\Users\\Public\\Documents\\Wondershare\\CreatorTemp\\ipykernel_13072\\188330710.py:9: DeprecationWarning: find_element_by_tag_name is deprecated. Please use find_element(by=By.TAG_NAME, value=name) instead\n",
      "  value = main.find_element_by_tag_name(\"td\")\n",
      "C:\\Users\\Public\\Documents\\Wondershare\\CreatorTemp\\ipykernel_13072\\188330710.py:10: DeprecationWarning: find_element_by_xpath is deprecated. Please use find_element(by=By.XPATH, value=xpath) instead\n",
      "  month = main.find_element_by_xpath(\"//div[@class='amcharts-balloon-div amcharts-balloon-div-categoryAxis']/div\")\n",
      "C:\\Users\\Public\\Documents\\Wondershare\\CreatorTemp\\ipykernel_13072\\188330710.py:11: FutureWarning: The frame.append method is deprecated and will be removed from pandas in a future version. Use pandas.concat instead.\n",
      "  df_data = df_data.append({\n",
      "C:\\Users\\Public\\Documents\\Wondershare\\CreatorTemp\\ipykernel_13072\\188330710.py:31: DeprecationWarning: find_element_by_tag_name is deprecated. Please use find_element(by=By.TAG_NAME, value=name) instead\n",
      "  value = main.find_element_by_tag_name(\"td\")\n",
      "C:\\Users\\Public\\Documents\\Wondershare\\CreatorTemp\\ipykernel_13072\\188330710.py:32: DeprecationWarning: find_element_by_xpath is deprecated. Please use find_element(by=By.XPATH, value=xpath) instead\n",
      "  month = main.find_element_by_xpath(\"//div[@class='amcharts-balloon-div amcharts-balloon-div-categoryAxis']/div\")\n",
      "C:\\Users\\Public\\Documents\\Wondershare\\CreatorTemp\\ipykernel_13072\\188330710.py:33: FutureWarning: The frame.append method is deprecated and will be removed from pandas in a future version. Use pandas.concat instead.\n",
      "  df_data = df_data.append({\n",
      "C:\\Users\\Public\\Documents\\Wondershare\\CreatorTemp\\ipykernel_13072\\188330710.py:53: DeprecationWarning: find_element_by_tag_name is deprecated. Please use find_element(by=By.TAG_NAME, value=name) instead\n",
      "  value = main.find_element_by_tag_name(\"td\")\n",
      "C:\\Users\\Public\\Documents\\Wondershare\\CreatorTemp\\ipykernel_13072\\188330710.py:54: DeprecationWarning: find_element_by_xpath is deprecated. Please use find_element(by=By.XPATH, value=xpath) instead\n",
      "  month = main.find_element_by_xpath(\"//div[@class='amcharts-balloon-div amcharts-balloon-div-categoryAxis']/div\")\n",
      "C:\\Users\\Public\\Documents\\Wondershare\\CreatorTemp\\ipykernel_13072\\188330710.py:55: FutureWarning: The frame.append method is deprecated and will be removed from pandas in a future version. Use pandas.concat instead.\n",
      "  df_data = df_data.append({\n"
     ]
    }
   ],
   "source": [
    "pyautogui.moveTo(right, y_zoom)\n",
    "pyautogui.mouseDown()\n",
    "pyautogui.moveTo(q1 + 20, y_zoom)\n",
    "pyautogui.mouseUp()\n",
    "pyautogui.moveTo(left, y_graph)\n",
    "while (True): \n",
    "    try:\n",
    "        time.sleep(1)\n",
    "        value = main.find_element_by_tag_name(\"td\")\n",
    "        month = main.find_element_by_xpath(\"//div[@class='amcharts-balloon-div amcharts-balloon-div-categoryAxis']/div\")\n",
    "        df_data = df_data.append({\n",
    "            'Time': get_text(month),\n",
    "            'Value': get_text(value)\n",
    "        }, ignore_index=True)\n",
    "        pyautogui.move(1)\n",
    "    except:\n",
    "        break\n",
    "\n",
    "pyautogui.moveTo(q1 + 20, y_zoom)\n",
    "pyautogui.mouseDown()\n",
    "pyautogui.moveTo(q2 + 20, y_zoom)\n",
    "pyautogui.mouseUp()\n",
    "pyautogui.moveTo(left, y_zoom)\n",
    "pyautogui.mouseDown()\n",
    "pyautogui.moveTo(q1 - 20, y_zoom)\n",
    "pyautogui.mouseUp()\n",
    "pyautogui.moveTo(left, y_graph)\n",
    "while (True): \n",
    "    try:\n",
    "        time.sleep(1)\n",
    "        value = main.find_element_by_tag_name(\"td\")\n",
    "        month = main.find_element_by_xpath(\"//div[@class='amcharts-balloon-div amcharts-balloon-div-categoryAxis']/div\")\n",
    "        df_data = df_data.append({\n",
    "            'Time': get_text(month),\n",
    "            'Value': get_text(value)\n",
    "        }, ignore_index=True)\n",
    "        pyautogui.move(1)\n",
    "    except:\n",
    "        break\n",
    "\n",
    "pyautogui.moveTo(q2 + 20, y_zoom)\n",
    "pyautogui.mouseDown()\n",
    "pyautogui.moveTo(right + 20, y_zoom)\n",
    "pyautogui.mouseUp()\n",
    "pyautogui.moveTo(q1 - 20, y_zoom)\n",
    "pyautogui.mouseDown()\n",
    "pyautogui.moveTo(q2 - 20, y_zoom)\n",
    "pyautogui.mouseUp()\n",
    "pyautogui.moveTo(left, y_graph)\n",
    "while (True): \n",
    "    try:\n",
    "        time.sleep(1)\n",
    "        value = main.find_element_by_tag_name(\"td\")\n",
    "        month = main.find_element_by_xpath(\"//div[@class='amcharts-balloon-div amcharts-balloon-div-categoryAxis']/div\")\n",
    "        df_data = df_data.append({\n",
    "            'Time': get_text(month),\n",
    "            'Value': get_text(value)\n",
    "        }, ignore_index=True)\n",
    "        pyautogui.move(1)\n",
    "    except:\n",
    "        break\n",
    "driver.close()"
   ]
  },
  {
   "cell_type": "code",
   "execution_count": 152,
   "metadata": {},
   "outputs": [
    {
     "data": {
      "text/plain": [
       "'Jun, 1965'"
      ]
     },
     "execution_count": 152,
     "metadata": {},
     "output_type": "execute_result"
    }
   ],
   "source": [
    "df_data.iloc[0][0]"
   ]
  },
  {
   "cell_type": "code",
   "execution_count": 153,
   "metadata": {},
   "outputs": [
    {
     "data": {
      "text/html": [
       "<div>\n",
       "<style scoped>\n",
       "    .dataframe tbody tr th:only-of-type {\n",
       "        vertical-align: middle;\n",
       "    }\n",
       "\n",
       "    .dataframe tbody tr th {\n",
       "        vertical-align: top;\n",
       "    }\n",
       "\n",
       "    .dataframe thead th {\n",
       "        text-align: right;\n",
       "    }\n",
       "</style>\n",
       "<table border=\"1\" class=\"dataframe\">\n",
       "  <thead>\n",
       "    <tr style=\"text-align: right;\">\n",
       "      <th></th>\n",
       "      <th>Time</th>\n",
       "      <th>Value</th>\n",
       "    </tr>\n",
       "  </thead>\n",
       "  <tbody>\n",
       "    <tr>\n",
       "      <th>0</th>\n",
       "      <td>Jun, 1965</td>\n",
       "      <td>$323.05</td>\n",
       "    </tr>\n",
       "    <tr>\n",
       "      <th>1</th>\n",
       "      <td>May, 1965</td>\n",
       "      <td>$325.10</td>\n",
       "    </tr>\n",
       "    <tr>\n",
       "      <th>2</th>\n",
       "      <td>Apr, 1965</td>\n",
       "      <td>$325.10</td>\n",
       "    </tr>\n",
       "    <tr>\n",
       "      <th>3</th>\n",
       "      <td>Mar, 1965</td>\n",
       "      <td>$326.16</td>\n",
       "    </tr>\n",
       "    <tr>\n",
       "      <th>4</th>\n",
       "      <td>Feb, 1965</td>\n",
       "      <td>$327.18</td>\n",
       "    </tr>\n",
       "  </tbody>\n",
       "</table>\n",
       "</div>"
      ],
      "text/plain": [
       "        Time    Value\n",
       "0  Jun, 1965  $323.05\n",
       "1  May, 1965  $325.10\n",
       "2  Apr, 1965  $325.10\n",
       "3  Mar, 1965  $326.16\n",
       "4  Feb, 1965  $327.18"
      ]
     },
     "execution_count": 153,
     "metadata": {},
     "output_type": "execute_result"
    }
   ],
   "source": [
    "df_data.head(5)\n"
   ]
  },
  {
   "cell_type": "code",
   "execution_count": 154,
   "metadata": {},
   "outputs": [],
   "source": [
    "df_data.to_csv(\"emas_data.csv\", index=False)"
   ]
  }
 ],
 "metadata": {
  "interpreter": {
   "hash": "d598ab0bde6c28274c328ac39d05990368836b263475373c5fc295d966653c79"
  },
  "kernelspec": {
   "display_name": "Python 3.10.2 ('env': venv)",
   "language": "python",
   "name": "python3"
  },
  "language_info": {
   "codemirror_mode": {
    "name": "ipython",
    "version": 3
   },
   "file_extension": ".py",
   "mimetype": "text/x-python",
   "name": "python",
   "nbconvert_exporter": "python",
   "pygments_lexer": "ipython3",
   "version": "3.10.2"
  },
  "orig_nbformat": 4
 },
 "nbformat": 4,
 "nbformat_minor": 2
}
